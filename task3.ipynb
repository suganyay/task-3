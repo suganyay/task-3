{
 "cells": [
  {
   "cell_type": "code",
   "execution_count": 9,
   "metadata": {},
   "outputs": [
    {
     "name": "stdout",
     "output_type": "stream",
     "text": [
      "Even numbers are: [10, 22, 100, 10, 22, 100]\n",
      "Odd numbers are: [501, 37, 999, 87, 351, 501, 37, 999, 87, 351]\n"
     ]
    }
   ],
   "source": [
    "#1.even and odd numbers\n",
    "# List of numbers\n",
    "numbers = [10, 501, 22, 37, 100, 999, 87, 351]\n",
    "\n",
    "# Loop through the numbers\n",
    "for i in numbers:\n",
    "    if i % 2 == 0:\n",
    "        even_numbers.append(i)  # Add to even_numbers list\n",
    "    else:\n",
    "        odd_numbers.append(i)  # Add to odd_numbers list\n",
    "\n",
    "# Print the results\n",
    "print(\"Even numbers are:\", even_numbers)\n",
    "print(\"Odd numbers are:\", odd_numbers)"
   ]
  },
  {
   "cell_type": "code",
   "execution_count": 34,
   "metadata": {},
   "outputs": [
    {
     "name": "stdout",
     "output_type": "stream",
     "text": [
      "Prime numbers are: [37]\n",
      "Count of prime numbers: 1\n"
     ]
    }
   ],
   "source": [
    "#2.prime numbers\n",
    "def is_prime(n):\n",
    "    \"\"\"Check if a number is prime.\"\"\"\n",
    "    if n <= 1:\n",
    "        return False\n",
    "    for i in range(2, int(n**0.5) + 1):\n",
    "        if n % i == 0:\n",
    "            return False\n",
    "    return True\n",
    "    \n",
    "    numbers = [10, 501, 22, 37, 100, 999, 87, 351]\n",
    "# List to hold prime numbers\n",
    "prime_numbers = [num for num in numbers if is_prime(num)]\n",
    "# Count of prime numbers\n",
    "prime_count = len(prime_numbers)\n",
    "\n",
    "# Print the results\n",
    "print(\"Prime numbers are:\", prime_numbers)\n",
    "print(\"Count of prime numbers:\", prime_count)\n",
    "\n",
    "\n"
   ]
  },
  {
   "cell_type": "code",
   "execution_count": 35,
   "metadata": {},
   "outputs": [
    {
     "name": "stdout",
     "output_type": "stream",
     "text": [
      "Happy numbers are: [10, 100]\n",
      "Count of happy numbers: 2\n"
     ]
    }
   ],
   "source": [
    "#3.happy numbers\n",
    "def is_happy(n):\n",
    "    seen = set()\n",
    "    while n != 1 and n not in seen:\n",
    "        seen.add(n)\n",
    "        n = sum(int(digit) ** 2 for digit in str(n))\n",
    "    return n == 1\n",
    "\n",
    "numbers = [10, 501, 22, 37, 100, 999, 87, 351]\n",
    "\n",
    "# Use filter to get happy numbers\n",
    "happy_numbers = list(filter(is_happy, numbers))\n",
    "\n",
    "print(\"Happy numbers are:\", happy_numbers)\n",
    "print(\"Count of happy numbers:\", len(happy_numbers))"
   ]
  },
  {
   "cell_type": "code",
   "execution_count": 39,
   "metadata": {},
   "outputs": [
    {
     "name": "stdout",
     "output_type": "stream",
     "text": [
      "The sum of the first and last digit of 123456 is: 7\n"
     ]
    }
   ],
   "source": [
    "#4.sum of first and last digit\n",
    "def sum_first_last_digit(num):\n",
    "    # Convert the number to a string\n",
    "    num_str = str(num)\n",
    "    \n",
    "    # Get the first and last digits\n",
    "    first_digit = int(num_str[0])\n",
    "    last_digit = int(num_str[-1])\n",
    "    \n",
    "    # Calculate the sum\n",
    "    return first_digit + last_digit\n",
    "number = 123456\n",
    "result = sum_first_last_digit(number)\n",
    "print(f\"The sum of the first and last digit of {number} is: {result}\")"
   ]
  },
  {
   "cell_type": "code",
   "execution_count": 5,
   "metadata": {},
   "outputs": [
    {
     "name": "stdout",
     "output_type": "stream",
     "text": [
      "The minimum difference is: None\n"
     ]
    }
   ],
   "source": [
    "#5.mangoes\n",
    "def min_difference_distribution(mangoes, M):\n",
    "    mangoes = [2, 50, 6, 7, 49, 33, 21, 20, 4, 3, 75, 30, 44, 48, 43]\n",
    "M = 7  # Number of students\n",
    "\n",
    "result = min_difference_distribution(mangoes, M)\n",
    "\n",
    "if result != -1:\n",
    "    print(f\"The minimum difference is: {result}\")\n",
    "else:\n",
    "    print(\"It's not possible to distribute mangoes to the students.\")"
   ]
  },
  {
   "cell_type": "code",
   "execution_count": 45,
   "metadata": {},
   "outputs": [
    {
     "name": "stdout",
     "output_type": "stream",
     "text": [
      "Duplicates in the three lists are: {3, 4, 5, 6}\n"
     ]
    }
   ],
   "source": [
    "#6.duplicates\n",
    "def find_duplicates(list1, list2, list3):\n",
    "    # Convert lists to sets for efficient comparison\n",
    "    set1 = set(list1)\n",
    "    set2 = set(list2)\n",
    "    set3 = set(list3)\n",
    "    \n",
    "    # Find duplicates by using intersection of the three sets\n",
    "    duplicates = set1.intersection(set2).intersection(set3)\n",
    "    \n",
    "    return duplicates\n",
    "list1 = [1,2,3,4,5,6]\n",
    "list2 = [3,4,5,6,7,8]\n",
    "list3 = [3,4,5,6,7,8,9]\n",
    "\n",
    "# Find duplicates\n",
    "duplicates = find_duplicates(list1, list2, list3)\n",
    "\n",
    "# Print the result\n",
    "print(\"Duplicates in the three lists are:\", duplicates)"
   ]
  },
  {
   "cell_type": "code",
   "execution_count": 4,
   "metadata": {},
   "outputs": [
    {
     "name": "stdout",
     "output_type": "stream",
     "text": [
      "The first non-repeating element is: 1\n"
     ]
    }
   ],
   "source": [
    "#7.non repeating elements\n",
    "def first_non_repeating(nums):\n",
    "    # Create a dictionary to store the frequency of each element\n",
    "    frequency = {}\n",
    "    \n",
    "    # Count the frequency of each element\n",
    "    for num in nums:\n",
    "        frequency[num] = frequency.get(num, 0) + 1\n",
    "    \n",
    "    # Find the first element with a frequency of 1\n",
    "    for num in nums:\n",
    "        if frequency[num] == 1:\n",
    "            return num\n",
    "    \n",
    "    return None  # If there is no non-repeating element\n",
    "numbers = [4, 5, 1, 2, 0, 4, 5, 2, 3]\n",
    "result = first_non_repeating(numbers)\n",
    "\n",
    "if result:\n",
    "    print(f\"The first non-repeating element is: {result}\")\n",
    "else:\n",
    "    print(\"There is no non-repeating element.\")\n"
   ]
  },
  {
   "cell_type": "code",
   "execution_count": 13,
   "metadata": {},
   "outputs": [
    {
     "name": "stdout",
     "output_type": "stream",
     "text": [
      "The minimum element is: 6\n"
     ]
    }
   ],
   "source": [
    "#8.minimum element in rated and sorted list\n",
    "def find_min_in_rotated_sorted_list(nums):\n",
    "    # Handle the edge case of an empty list\n",
    "    if not nums:\n",
    "        return None\n",
    "    \n",
    "    # Initialize two pointers\n",
    "    left, right = 0, len(nums) - 1\n",
    "\n",
    "    # If the list is not rotated (the smallest element is the first element)\n",
    "    if nums[left] < nums[right]:\n",
    "        return nums[left]\n",
    "\n",
    "    # Binary search to find the minimum element\n",
    "    while left < right:\n",
    "        mid = (left + right) // 2\n",
    "        \n",
    "        # Check if the middle element is greater than the right element\n",
    "        if nums[mid] > nums[right]:\n",
    "            # The minimum element must be to the right\n",
    "            left = mid + 1\n",
    "        else:\n",
    "            # The minimum element must be at mid or to the left\n",
    "            right = mid\n",
    "\n",
    "    # After the loop, left == right, which points to the minimum element\n",
    "    return nums[left]\n",
    "\n",
    "rotated_list = [40, 50, 6, 70, 81, 25]\n",
    "min_element = find_min_in_rotated_sorted_list(rotated_list)\n",
    "print(\"The minimum element is:\", min_element)"
   ]
  },
  {
   "cell_type": "code",
   "execution_count": 22,
   "metadata": {},
   "outputs": [
    {
     "name": "stdout",
     "output_type": "stream",
     "text": [
      "No triplet found\n"
     ]
    }
   ],
   "source": [
    "#9.triplets\n",
    "def find_triplet_with_sum(nums, target_sum):\n",
    " nums = [10, 20, 30, 9]\n",
    "target_sum = 59\n",
    "\n",
    "triplet = find_triplet_with_sum(nums, target_sum)\n",
    "\n",
    "if triplet:\n",
    "    print(f\"Triplet found: {triplet}\")\n",
    "else:\n",
    "    print(\"No triplet found\")"
   ]
  },
  {
   "cell_type": "code",
   "execution_count": 23,
   "metadata": {},
   "outputs": [
    {
     "name": "stdout",
     "output_type": "stream",
     "text": [
      "There is no sub-list with sum equal to zero.\n"
     ]
    }
   ],
   "source": [
    "#10.sub-list\n",
    "def has_zero_sum_sublist(nums):\n",
    " nums = [4, 2, -3, 1, 6]\n",
    "result = has_zero_sum_sublist(nums)\n",
    "\n",
    "if result:\n",
    "    print(\"There is a sub-list with sum equal to zero.\")\n",
    "else:\n",
    "    print(\"There is no sub-list with sum equal to zero.\")"
   ]
  }
 ],
 "metadata": {
  "kernelspec": {
   "display_name": "Python 3",
   "language": "python",
   "name": "python3"
  },
  "language_info": {
   "codemirror_mode": {
    "name": "ipython",
    "version": 3
   },
   "file_extension": ".py",
   "mimetype": "text/x-python",
   "name": "python",
   "nbconvert_exporter": "python",
   "pygments_lexer": "ipython3",
   "version": "3.12.7"
  }
 },
 "nbformat": 4,
 "nbformat_minor": 2
}
